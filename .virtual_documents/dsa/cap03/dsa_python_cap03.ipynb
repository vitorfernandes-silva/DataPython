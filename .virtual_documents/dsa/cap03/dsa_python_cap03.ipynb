


# Versão da linguagem Python
from platform import python_version
print('Versão da linguagem Python usada neste Jupyter Notebook:', python_version())












