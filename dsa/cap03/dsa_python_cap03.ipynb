{
 "cells": [
  {
   "cell_type": "markdown",
   "metadata": {},
   "source": [
    "# Data Science Academy \n",
    "## Fundamentos de Linguagem Python para Análise de Dados e Data Science\n",
    "## Capítulo 3 - Introdução á lógica de programação"
   ]
  },
  {
   "cell_type": "code",
   "execution_count": 4,
   "metadata": {
    "metadata": {}
   },
   "outputs": [
    {
     "name": "stdout",
     "output_type": "stream",
     "text": [
      "Versão da linguagem Python usada neste Jupyter Notebook: 3.12.3\n"
     ]
    }
   ],
   "source": [
    "# Versão da linguagem Python\n",
    "from platform import python_version\n",
    "print('Versão da linguagem Python usada neste Jupyter Notebook:', python_version())"
   ]
  },
  {
   "cell_type": "markdown",
   "metadata": {},
   "source": [
    "Pressione as teclas shift + enter para executar o código em uma célula ou pressione o botão run no menu superior."
   ]
  },
  {
   "cell_type": "markdown",
   "metadata": {},
   "source": [
    "### Pseudocódigo 1 - Calcular a área de um paralelogramo"
   ]
  },
  {
   "cell_type": "markdown",
   "metadata": {},
   "source": [
    "Nota: um paralelogramo é um quadrilátero com lados opostos paralelos (e portanto ângulos opostos iguais). Um quadrilátero com lados iguais é chamado de losango e um paralelogramo cujos ângulos são todos ângulos retos é chamado de retângulo."
   ]
  },
  {
   "cell_type": "markdown",
   "metadata": {},
   "source": [
    "Inicie\n",
    "\n",
    "    Exiba \"Bem-vindo ao calculador de Área de Paralelogramo\"\n",
    "    Peça para o usuário inserir o comprimento de base\n",
    "    Armazene o comprimento de base em uma variável\n",
    "    Peça para o usuário inserir a altura\n",
    "    Armazene a altura em uma variável\n",
    "    Calcule a área do paralelogramo: base * altura\n",
    "    Armazene o resultado em uma variável\n",
    "    Exiba o resultado\n",
    "    \n",
    "Fim"
   ]
  }
 ],
 "metadata": {
  "kernelspec": {
   "display_name": "Python 3",
   "language": "python",
   "name": "python3"
  },
  "language_info": {
   "codemirror_mode": {
    "name": "ipython",
    "version": 3
   },
   "file_extension": ".py",
   "mimetype": "text/x-python",
   "name": "python",
   "nbconvert_exporter": "python",
   "pygments_lexer": "ipython3",
   "version": "3.12.3"
  }
 },
 "nbformat": 4,
 "nbformat_minor": 2
}
