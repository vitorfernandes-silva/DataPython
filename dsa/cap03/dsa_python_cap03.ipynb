{
 "cells": [
  {
   "cell_type": "markdown",
   "metadata": {},
   "source": [
    "# Data Science Academy \n",
    "## Fundamentos de Linguagem Python para Análise de Dados e Data Science\n",
    "## Capítulo 3 - Introdução á lógica de programação"
   ]
  },
  {
   "cell_type": "code",
   "execution_count": 4,
   "metadata": {
    "metadata": {}
   },
   "outputs": [
    {
     "name": "stdout",
     "output_type": "stream",
     "text": [
      "Versão da linguagem Python usada neste Jupyter Notebook: 3.12.3\n"
     ]
    }
   ],
   "source": [
    "# Versão da linguagem Python\n",
    "from platform import python_version\n",
    "print('Versão da linguagem Python usada neste Jupyter Notebook:', python_version())"
   ]
  },
  {
   "cell_type": "markdown",
   "metadata": {},
   "source": [
    "Pressione as teclas shift + enter para executar o código em uma célula ou pressione o botão run no menu superior."
   ]
  },
  {
   "cell_type": "markdown",
   "metadata": {},
   "source": [
    "### Pseudocódigo 1 - Calcular a área de um paralelogramo"
   ]
  },
  {
   "cell_type": "markdown",
   "metadata": {},
   "source": [
    "Nota: um paralelogramo é um quadrilátero com lados opostos paralelos (e portanto ângulos opostos iguais). Um quadrilátero com lados iguais é chamado de losango e um paralelogramo cujos ângulos são todos ângulos retos é chamado de retângulo."
   ]
  },
  {
   "cell_type": "markdown",
   "metadata": {},
   "source": [
    "Inicie\n",
    "\n",
    "    Exiba \"Bem-vindo ao calculador de Área de Paralelogramo\"\n",
    "    Peça para o usuário inserir o comprimento de base\n",
    "    Armazene o comprimento de base em uma variável\n",
    "    Peça para o usuário inserir a altura\n",
    "    Armazene a altura em uma variável\n",
    "    Calcule a área do paralelogramo: base * altura\n",
    "    Armazene o resultado em uma variável\n",
    "    Exiba o resultado\n",
    "    \n",
    "Fim"
   ]
  },
  {
   "cell_type": "markdown",
   "metadata": {},
   "source": [
    "## Convertendo o Pseudocódigo 1 em programa Python"
   ]
  },
  {
   "cell_type": "code",
   "execution_count": 1,
   "metadata": {},
   "outputs": [
    {
     "name": "stdout",
     "output_type": "stream",
     "text": [
      "Bem-Vindo ao calculador de Área de Paralelogramo\n"
     ]
    }
   ],
   "source": [
    "print(\"Bem-Vindo ao calculador de Área de Paralelogramo\")"
   ]
  },
  {
   "cell_type": "code",
   "execution_count": 2,
   "metadata": {},
   "outputs": [
    {
     "name": "stdin",
     "output_type": "stream",
     "text": [
      "Insira um comprimento de base:  5\n"
     ]
    }
   ],
   "source": [
    "base = float(input(\"Insira um comprimento de base: \"))"
   ]
  },
  {
   "cell_type": "code",
   "execution_count": 3,
   "metadata": {},
   "outputs": [
    {
     "name": "stdin",
     "output_type": "stream",
     "text": [
      "Insira um valor para a altura:  10\n"
     ]
    }
   ],
   "source": [
    "altura = float(input(\"Insira um valor para a altura: \"))"
   ]
  },
  {
   "cell_type": "code",
   "execution_count": 4,
   "metadata": {},
   "outputs": [],
   "source": [
    "area = base * altura"
   ]
  },
  {
   "cell_type": "code",
   "execution_count": 6,
   "metadata": {},
   "outputs": [
    {
     "name": "stdout",
     "output_type": "stream",
     "text": [
      "A área do paralelogramo é:  50.0\n"
     ]
    }
   ],
   "source": [
    "print(\"A área do paralelogramo é: \", area)"
   ]
  },
  {
   "cell_type": "markdown",
   "metadata": {},
   "source": [
    "## Pseudocódigo 2 - Calculadora Simples"
   ]
  },
  {
   "cell_type": "markdown",
   "metadata": {},
   "source": [
    "Inicio\n",
    "\n",
    "    Exiba \"Esta é sua calculadora simples!\".\n",
    "    Peça para o usuário inserir um número a ser calculado.\n",
    "    Armazene o número em uma variável.\n",
    "    Peça para o usuário inserir outro número a ser calculado.\n",
    "    Armazene o segundo número em outra variável.\n",
    "    Peça para o usuário selecionar uma operação (+, -, *, /)\n",
    "    Armazene a operação em uma variável\n",
    "    Utilize a operação selecionada e os números armazenados para realizar o cálculo.\n",
    "    Exiba o resultado.\n",
    "\n",
    "Fim"
   ]
  },
  {
   "cell_type": "markdown",
   "metadata": {},
   "source": [
    "## Convertendo o Pseudocódigo 2 em programa Python"
   ]
  },
  {
   "cell_type": "code",
   "execution_count": 7,
   "metadata": {},
   "outputs": [
    {
     "name": "stdout",
     "output_type": "stream",
     "text": [
      "Esta é sua calculadora simples!\n"
     ]
    }
   ],
   "source": [
    "print(\"Esta é sua calculadora simples!\")"
   ]
  },
  {
   "cell_type": "code",
   "execution_count": 8,
   "metadata": {},
   "outputs": [
    {
     "name": "stdin",
     "output_type": "stream",
     "text": [
      "Insira um número a ser calculado:  10\n"
     ]
    }
   ],
   "source": [
    "n1 = int(input(\"Insira um número a ser calculado: \"))"
   ]
  },
  {
   "cell_type": "code",
   "execution_count": 9,
   "metadata": {},
   "outputs": [
    {
     "name": "stdin",
     "output_type": "stream",
     "text": [
      "Insira outro número a ser calculado:  5\n"
     ]
    }
   ],
   "source": [
    "n2 = int(input(\"Insira outro número a ser calculado: \"))"
   ]
  },
  {
   "cell_type": "code",
   "execution_count": 11,
   "metadata": {},
   "outputs": [
    {
     "name": "stdin",
     "output_type": "stream",
     "text": [
      "Digite a operação que deseja realizar: +, -, *, / +\n"
     ]
    }
   ],
   "source": [
    "operacao = input(\"Digite a operação que deseja realizar: +, -, *, /\")"
   ]
  },
  {
   "cell_type": "code",
   "execution_count": 12,
   "metadata": {},
   "outputs": [
    {
     "name": "stdout",
     "output_type": "stream",
     "text": [
      "Resultado:  15\n"
     ]
    }
   ],
   "source": [
    "match operacao:\n",
    "    case \"+\":\n",
    "        print(\"Resultado: \", n1 + n2)\n",
    "    case \"-\":\n",
    "        print(\"Resultado: \", n1 - n2)\n",
    "    case \"*\":\n",
    "        print(\"Resultado: \", n1 * n2)\n",
    "    case \"/\":\n",
    "        print(\"Resultado: \", n1 / n2)"
   ]
  },
  {
   "cell_type": "markdown",
   "metadata": {},
   "source": [
    "## Pseudocódigo 3 - Algoritmo Bubble Sort\n",
    "\n",
    "Bubble Sort é um algoritmo de ordenação simples que funciona comparando cada elemento com o próximo, e trocando-os de lugar se eles estiverem em ordem incorreta. O algoritmo repete esse processo várias vezes, até que todos os elementos estejam ordenados. A cada passagem, o maior elemento \"flutua\" para o final do array, como uma bolha, dando origem ao nome do algoritmo."
   ]
  },
  {
   "cell_type": "markdown",
   "metadata": {},
   "source": [
    "Inicie\n",
    "\n",
    "    Para cada elemento i no array de tamanho n\n",
    "        Para cada elemento j no array de tamanho n-1\n",
    "            Se o elemento i for maior que o elemento j\n",
    "                Troque os elementos i e j\n",
    "\n",
    "    Exiba o array ordenado\n",
    "\n",
    "Fim"
   ]
  },
  {
   "cell_type": "markdown",
   "metadata": {},
   "source": [
    "## Convertendo o Pseudocódigo 3 em programa Python"
   ]
  },
  {
   "cell_type": "code",
   "execution_count": 1,
   "metadata": {},
   "outputs": [],
   "source": [
    "lista = [6,7,8,3,10,19,4,1,0,61,30,16,17,82,29,34,43,21,11,39,56,67,12]"
   ]
  },
  {
   "cell_type": "code",
   "execution_count": 2,
   "metadata": {},
   "outputs": [],
   "source": [
    "def bubble_sort(arr):\n",
    "    \n",
    "    n = len(arr)\n",
    "\n",
    "    # Para cada elemento i do array\n",
    "    for i in range(n):\n",
    "        # Para cada elemento j do array\n",
    "        for j in range(0, n-i-1):\n",
    "            # Se o elemento i for maior que elemento j\n",
    "            if arr[j] > arr [j+1]:\n",
    "                # Troque os elementos i e j\n",
    "                arr[j], arr[j+1] = arr[j+1], arr[j]\n",
    "    return arr"
   ]
  },
  {
   "cell_type": "code",
   "execution_count": 3,
   "metadata": {},
   "outputs": [
    {
     "name": "stdout",
     "output_type": "stream",
     "text": [
      "[0, 1, 3, 4, 6, 7, 8, 10, 11, 12, 16, 17, 19, 21, 29, 30, 34, 39, 43, 56, 61, 67, 82]\n"
     ]
    }
   ],
   "source": [
    "print(bubble_sort(lista))"
   ]
  },
  {
   "cell_type": "markdown",
   "metadata": {},
   "source": [
    "Parece maǵica mas não é. É a beleza da programação de computadores!"
   ]
  }
 ],
 "metadata": {
  "kernelspec": {
   "display_name": "Python 3 (ipykernel)",
   "language": "python",
   "name": "python3"
  },
  "language_info": {
   "codemirror_mode": {
    "name": "ipython",
    "version": 3
   },
   "file_extension": ".py",
   "mimetype": "text/x-python",
   "name": "python",
   "nbconvert_exporter": "python",
   "pygments_lexer": "ipython3",
   "version": "3.11.7"
  }
 },
 "nbformat": 4,
 "nbformat_minor": 4
}
